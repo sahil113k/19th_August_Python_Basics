{
 "cells": [
  {
   "cell_type": "code",
   "execution_count": 1,
   "id": "c0da4ac5-9285-4163-b5f0-27f6f3d239d2",
   "metadata": {},
   "outputs": [
    {
     "name": "stdout",
     "output_type": "stream",
     "text": [
      "a= 13\n",
      "b= 12\n"
     ]
    }
   ],
   "source": [
    "# Q1 #Python Basics Variable\n",
    "\n",
    "\"\"\"1. Declare two variables, `x` and `y`, and assign them integer values. Swap the\n",
    "values of these variables without using any temporary variable.\"\"\"\n",
    "a=12\n",
    "b=13\n",
    "a,b=b,a\n",
    "print (\"a=\", a)\n",
    "print (\"b=\",b)"
   ]
  },
  {
   "cell_type": "code",
   "execution_count": 2,
   "id": "796ea876-05a8-453c-adfd-7d0ea6925ac9",
   "metadata": {},
   "outputs": [
    {
     "name": "stdin",
     "output_type": "stream",
     "text": [
      "enter length 12\n",
      "enter width 10.11\n"
     ]
    },
    {
     "name": "stdout",
     "output_type": "stream",
     "text": [
      "Area of rectangle= 121.32\n"
     ]
    }
   ],
   "source": [
    "# Q2 \n",
    "\"\"\" Create a program that calculates the area of a rectangle. Take the length and\n",
    "width as inputs from the user and store them in variables. Calculate and\n",
    "display the area.\"\"\"\n",
    "x=float(input (\"enter length\"))\n",
    "y=float(input (\"enter width\"))\n",
    "print (\"Area of rectangle=\",x*y)"
   ]
  },
  {
   "cell_type": "code",
   "execution_count": 3,
   "id": "c9f9812c-c87a-4239-9439-7a6d5f74bbd7",
   "metadata": {},
   "outputs": [
    {
     "name": "stdin",
     "output_type": "stream",
     "text": [
      "enter temperatutr in celsius 12\n"
     ]
    },
    {
     "name": "stdout",
     "output_type": "stream",
     "text": [
      "53.6\n"
     ]
    }
   ],
   "source": [
    "# Q3\n",
    "\"\"\"Write a Python program that converts temperatures from Celsius to\n",
    "Fahrenheit. Take the temperature in Celsius as inpu_in_store it  in a variable,\n",
    "convert it to Fahrenheit, and display the result.\"\"\"\n",
    "celsius=int(input (\"enter temperatutr in celsius\"))\n",
    "#F = (C * 9/5) + 32 Formula\n",
    "Farenheit=celsius * 9/5 +32\n",
    "print (Farenheit)"
   ]
  },
  {
   "cell_type": "code",
   "execution_count": 4,
   "id": "f198bf7a-920c-4383-bee5-1c1ed5fa8974",
   "metadata": {},
   "outputs": [
    {
     "name": "stdin",
     "output_type": "stream",
     "text": [
      "enter name sahil\n"
     ]
    },
    {
     "name": "stdout",
     "output_type": "stream",
     "text": [
      "The length of name is 5\n"
     ]
    }
   ],
   "source": [
    "# Q4 String Based Questions\n",
    "\n",
    "\"\"\" Q1 - 1. Write a Python program that takes a string as input and prints the length of\n",
    "the string. \"\"\"\n",
    "A=str(input(\"enter name\"))\n",
    "print (\"The length of name is\",len(A))"
   ]
  },
  {
   "cell_type": "code",
   "execution_count": 5,
   "id": "6c5ebe25-c63a-4e1f-a00c-39daa07dcea7",
   "metadata": {},
   "outputs": [
    {
     "name": "stdin",
     "output_type": "stream",
     "text": [
      "Enter your sentence  My name is sahil\n"
     ]
    },
    {
     "name": "stdout",
     "output_type": "stream",
     "text": [
      "5\n"
     ]
    }
   ],
   "source": [
    "# Q5\n",
    "\"\"\"2. Create a program that takes a sentence from the user and counts the number\n",
    "of vowels (a, e, i, o, u) in the string.\"\"\"\n",
    "sentence = str(input(\"Enter your sentence \"))\n",
    "\n",
    "vowel_count = 0\n",
    "               \n",
    "for i in sentence:\n",
    "    if i in \"aeiouAEIOU\":\n",
    "        vowel_count += 1\n",
    "               \n",
    "print(vowel_count)"
   ]
  },
  {
   "cell_type": "code",
   "execution_count": 7,
   "id": "8ef2c5ed-d6a6-47ff-a3c8-e72e749311ee",
   "metadata": {},
   "outputs": [
    {
     "name": "stdout",
     "output_type": "stream",
     "text": [
      "tnemngissa eht etelpmoc ot gniog ma I\n"
     ]
    }
   ],
   "source": [
    "# Q6 \n",
    "'''Given a string, reverse the order of characters using string slicing and print\n",
    "the reversed string.'''\n",
    "\n",
    "a = \"I am going to complete the assignment\"\n",
    "print(a[::-1])"
   ]
  },
  {
   "cell_type": "code",
   "execution_count": 14,
   "id": "98c27cdf-d77c-4423-a8c2-923811925a6e",
   "metadata": {},
   "outputs": [
    {
     "name": "stdin",
     "output_type": "stream",
     "text": [
      " refer\n"
     ]
    },
    {
     "name": "stdout",
     "output_type": "stream",
     "text": [
      "Given String is palindrome\n"
     ]
    }
   ],
   "source": [
    "# Q7\n",
    "'''Write a program that takes a string as input and checks if it is a palindrome\n",
    "(reads the same forwards and backwards).'''\n",
    "b = str(input())\n",
    "\n",
    "\n",
    "\n",
    "if b == b[::-1]:\n",
    "\n",
    "    print(\"Given String is palindrome\")\n",
    "else:\n",
    "    print(\"Given String is not palindrome\")\n",
    "    "
   ]
  },
  {
   "cell_type": "code",
   "execution_count": 16,
   "id": "b097f8d5-c6cc-474c-b684-8f0c5cc54e24",
   "metadata": {},
   "outputs": [
    {
     "name": "stdin",
     "output_type": "stream",
     "text": [
      " my name is sahil\n"
     ]
    },
    {
     "name": "stdout",
     "output_type": "stream",
     "text": [
      "mynameissahil\n"
     ]
    }
   ],
   "source": [
    "\"\"\" Q8: Create a program that takes a string as input and removes all the spaces from\n",
    "it. Print the modified string without spaces.\"\"\"\n",
    "c = str(input())\n",
    "\n",
    "c_without_space = c.replace(\" \",\"\")\n",
    "print(c_without_space)"
   ]
  }
 ],
 "metadata": {
  "kernelspec": {
   "display_name": "Python 3 (ipykernel)",
   "language": "python",
   "name": "python3"
  },
  "language_info": {
   "codemirror_mode": {
    "name": "ipython",
    "version": 3
   },
   "file_extension": ".py",
   "mimetype": "text/x-python",
   "name": "python",
   "nbconvert_exporter": "python",
   "pygments_lexer": "ipython3",
   "version": "3.10.8"
  }
 },
 "nbformat": 4,
 "nbformat_minor": 5
}
